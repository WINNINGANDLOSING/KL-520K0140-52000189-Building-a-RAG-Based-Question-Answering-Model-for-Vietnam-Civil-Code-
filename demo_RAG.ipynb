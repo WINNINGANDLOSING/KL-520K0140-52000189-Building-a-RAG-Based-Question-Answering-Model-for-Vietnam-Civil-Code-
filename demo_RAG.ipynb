version https://git-lfs.github.com/spec/v1
oid sha256:c377ccd96e45ab9ddec7ccabf48d2fdb57b26bfbde1d284ea806db15553d47aa
size 20697
