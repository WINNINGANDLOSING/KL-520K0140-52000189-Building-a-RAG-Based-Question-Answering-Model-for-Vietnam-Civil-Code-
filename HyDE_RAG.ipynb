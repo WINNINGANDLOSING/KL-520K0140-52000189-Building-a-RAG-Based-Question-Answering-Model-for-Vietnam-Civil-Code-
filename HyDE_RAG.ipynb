version https://git-lfs.github.com/spec/v1
oid sha256:0a397f6622dfa0e3f3e82ab12bb8be3102a3fbcf5d4ba39564df783a47469906
size 10320
