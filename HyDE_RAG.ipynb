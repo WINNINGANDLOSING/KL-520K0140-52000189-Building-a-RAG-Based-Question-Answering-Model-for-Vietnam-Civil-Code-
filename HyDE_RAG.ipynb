{
 "cells": [
  {
   "cell_type": "code",
   "execution_count": 1,
   "metadata": {},
   "outputs": [
    {
     "name": "stderr",
     "output_type": "stream",
     "text": [
      "/home/zeus/miniconda3/envs/cloudspace/lib/python3.10/site-packages/deeplake/util/check_latest_version.py:32: UserWarning: A newer version of deeplake (3.9.8) is available. It's recommended that you update to the latest version using `pip install -U deeplake`.\n",
      "  warnings.warn(\n"
     ]
    },
    {
     "data": {
      "text/plain": [
       "True"
      ]
     },
     "execution_count": 1,
     "metadata": {},
     "output_type": "execute_result"
    }
   ],
   "source": [
    "from llama_index.llms.groq import Groq\n",
    "from llama_index.embeddings.huggingface import HuggingFaceEmbedding\n",
    "from llama_index.vector_stores.deeplake import DeepLakeVectorStore\n",
    "from llama_index.core.storage.storage_context import StorageContext\n",
    "from llama_index.core import VectorStoreIndex\n",
    "import os\n",
    "\n",
    "from dotenv import load_dotenv\n",
    "\n",
    "load_dotenv()"
   ]
  },
  {
   "cell_type": "code",
   "execution_count": 2,
   "metadata": {},
   "outputs": [],
   "source": [
    "## embedding model\n",
    "def get_embedding_model(model_name=\"/teamspace/studios/this_studio/bge-small-en-v1.5\"):\n",
    "    embed_model = HuggingFaceEmbedding(model_name=model_name)\n",
    "    return embed_model\n",
    "\n",
    "# generator model\n",
    "def get_llm(model_name=\"llama3-8b-8192\"):\n",
    "    llm = Groq(model=model_name, api_key=os.getenv(\"GROQ_API\"), temperature=0.8)\n",
    "    return llm\n",
    "\n",
    "## get deeplake vector database\n",
    "def get_vector_database(id, dataset_name):\n",
    "    my_activeloop_org_id = id # \"hunter\"\n",
    "    my_activeloop_dataset_name = dataset_name # \"Vietnamese-law-RAG\"\n",
    "    dataset_path = f\"hub://{my_activeloop_org_id}/{my_activeloop_dataset_name}\"\n",
    "    vector_store = DeepLakeVectorStore(\n",
    "        dataset_path=dataset_path,\n",
    "        overwrite=False,\n",
    "    )\n",
    "    return vector_store\n",
    "\n",
    "def get_index(vector_store):\n",
    "    index = VectorStoreIndex.from_vector_store(vector_store=vector_store)\n",
    "    return index"
   ]
  },
  {
   "cell_type": "code",
   "execution_count": 4,
   "metadata": {},
   "outputs": [
    {
     "name": "stdout",
     "output_type": "stream",
     "text": [
      "Deep Lake Dataset in hub://hunter/Vietnamese-legal-data already exists, loading from the storage\n"
     ]
    }
   ],
   "source": [
    "from llama_index.core.query_engine import RetrieverQueryEngine\n",
    "from llama_index.core import Settings\n",
    "from llama_index.llms.ollama import Ollama\n",
    "\n",
    "## set embedding model\n",
    "embed_model = get_embedding_model()\n",
    "Settings.embed_model = embed_model\n",
    "\n",
    "## set llm \n",
    "llm = Ollama(model=\"vistral\", request_timeout=120.0, max_new_tokens=2000) # get_llm()\n",
    "Settings.llm = llm\n",
    "\n",
    "## get vector store, index, and two retrievers\n",
    "vector_store = get_vector_database(\"hunter\", \"Vietnamese-legal-data\")\n",
    "index = get_index(vector_store=vector_store)\n",
    "vector_retriever = index.as_retriever(similarity_top_k=3)"
   ]
  },
  {
   "cell_type": "code",
   "execution_count": 6,
   "metadata": {},
   "outputs": [],
   "source": [
    "from llama_index.core.indices.query.query_transform import HyDEQueryTransform\n",
    "from llama_index.core.query_engine import TransformQueryEngine\n",
    "from IPython.display import Markdown, display"
   ]
  },
  {
   "cell_type": "code",
   "execution_count": 8,
   "metadata": {},
   "outputs": [
    {
     "data": {
      "text/markdown": [
       "<b>\n",
       "Bạn có thể tham khảo Nghị định 100/2019/NĐ-CP để biết mức xử lý đối với hành vi vượt đèn đỏ. Theo đó, người điều khiển xe máy vượt đèn đỏ sẽ bị phạt từ 600.000 đồng đến 1.000.000 đồng và giữ bằng lái từ 1 tháng tới 3 tháng. Nếu gây tai nạn giao thông thì có thể bị cấm hành nghề lên tới 4 tháng. Mức xử lý này áp dụng với xe máy, còn ô tô vượt đèn đỏ sẽ bị phạt tiền từ 3 triệu đến 5 triệu đồng, tạm giữ giấy phép lái xe từ 01 tháng đến 03 tháng và tước quyền sử dụng Giấy phép lái xe từ 02 tháng đến 04 tháng. Nếu gây tai nạn giao thông thì có thể bị cấm hành nghề lên tới 6 tháng (theo Khoản 5 Điều 5 Nghị định 100/2019/NĐ-CP). </b>"
      ],
      "text/plain": [
       "<IPython.core.display.Markdown object>"
      ]
     },
     "metadata": {},
     "output_type": "display_data"
    }
   ],
   "source": [
    "query_str = \"Vượt đèn đỏ thì bị phạt bao nhiêu tiền?\"\n",
    "query_engine = index.as_query_engine()\n",
    "response = query_engine.query(query_str)\n",
    "display(Markdown(f\"<b>{response}</b>\"))"
   ]
  },
  {
   "cell_type": "code",
   "execution_count": 14,
   "metadata": {},
   "outputs": [],
   "source": [
    "llm = Ollama(model=\"vistral\", request_timeout=120.0, max_new_tokens=2000) # get_llm()\n",
    "Settings.llm = llm"
   ]
  },
  {
   "cell_type": "code",
   "execution_count": 15,
   "metadata": {},
   "outputs": [
    {
     "data": {
      "text/markdown": [
       "<b>\n",
       "Mức phạt đối với hành vi điều khiển xe máy vượt đèn đỏ sẽ là từ 600 - 1 triệu đồng (điểm a khoản 5 Điều 6 Nghị định 100/2019/NĐ-CP). Ngoài ra, người vi phạm còn bị tước quyền sử dụng Giấy phép lái xe từ 01 tháng đến 03 tháng.\n",
       "\n",
       "Ngoài những trường hợp nêu trên thì một số lỗi khác cũng phải chịu mức phạt nặng như: vượt đèn vàng có thể bị phạt tiền từ 4 - 6 triệu đồng (điểm b khoản 5 Điều 5 Nghị định 100/2019/NĐ-CP). Với hành vi dừng xe, đỗ xe gây cản trở giao thông tại khu vực nhà ga, bến xe, sân bay; vượt đèn vàng khi tham gia giao thông có thể bị phạt tiền từ 4 - 6 triệu đồng. Điều khiển xe ô tô không có đủ đèn chiếu sáng khi trời tối hoặc khi sương mù, thời tiết xấu làm hạn chế tầm nhìn cũng sẽ bị xử phạt nặng (điểm b khoản 2 Điều 5 Nghị định số 100/2019/NĐ-CP). Người điều khiển phương tiện sử dụng điện thoại di động khi đang lái xe ô tô chạy trên đường có thể bị phạt tiền từ 600.000 đồng đến 1 triệu đồng (điểm l khoản 3 Điều 5 Nghị định số 100/2019/NĐ-CP). Khi điều khiển phương tiện, người tham gia giao thông cũng không được phép sử dụng ô để che nắng, che mưa hoặc các vật khác làm cản trở tầm nhìn của người lái xe. Nếu vi phạm sẽ bị phạt tiền từ 600 - 800 nghìn đồng (điểm e khoản 2 Điều 5 Nghị định số 100/2019/NĐ-CP). Khi tham gia giao thông, nếu không chấp hành hiệu lệnh dừng xe của người thi hành công vụ thì mức xử phạt có thể lên đến từ 3 triệu đồng đến 4 triệu đồng. Nếu điều khiển phương tiện quá tốc độ quy định trên 20 km/h sẽ bị phạt tiền từ 5 - 7 triệu đồng (điểm b khoản 6 Điều 5 Nghị định số 100/2019/NĐ-CP). Đối với hành vi không chấp hành hiệu lệnh dừng xe của người thi hành công vụ có thể bị xử phạt đến mức tối đa là 40 triệu đồng. Nếu điều khiển phương tiện chạy quá tốc độ quy định trên 35 km/h sẽ bị phạt tiền từ 8 - 12 triệu đồng (điểm b khoản 7 Điều 5 Nghị định số 100/2019/NĐ-CP). Khi tham gia giao thông, người dân tuyệt đối không được phép sử dụng phương tiện để cản trở hoặc làm hư hỏng các công trình đường sắt. Nếu vi phạm có thể bị phạt tiền từ 6 - 8 triệu đồng (điểm a khoản 3 Điều 5 Nghị định số 100/2019/NĐ-CP). Trường hợp điều khiển xe mô tô, gắn máy không đội mũ bảo hiểm hoặc đội mà cài quai không đúng quy cách sẽ bị xử phạt đến mức tối đa là 400 nghìn đồng (điểm c khoản 3 Điều 6 Nghị định số 100/2019/NĐ-CP). Nếu người điều khiển xe ô tô khi có giấy phép lái xe nhưng đã hết hạn sử dụng dưới 6 tháng thì sẽ bị xử phạt từ 4 - 6 triệu đồng. Mức cao nhất của mức phạt này là đối với hành vi không chấp hành hiệu lệnh dừng xe hoặc tốc độ của người thi hành công vụ (điểm b khoản 7 Điều 5 Nghị định số 100/2019/NĐ-CP). Đối với những lỗi nêu trên, ngoài việc bị xử phạt tiền còn có thể áp dụng hình thức xử lý bổ sung như: tịch thu tang vật, phương tiện; tước quyền sử dụng giấy phép lái xe từ 01 tháng đến 03 tháng. Trong trường hợp cần thiết, người vi phạm sẽ phải thi lại giấy phép lái xe. </b>"
      ],
      "text/plain": [
       "<IPython.core.display.Markdown object>"
      ]
     },
     "metadata": {},
     "output_type": "display_data"
    }
   ],
   "source": [
    "hyde = HyDEQueryTransform(include_original=True)\n",
    "hyde_query_engine = TransformQueryEngine(query_engine, hyde)\n",
    "response = hyde_query_engine.query(query_str)\n",
    "display(Markdown(f\"<b>{response}</b>\"))"
   ]
  },
  {
   "cell_type": "code",
   "execution_count": null,
   "metadata": {},
   "outputs": [],
   "source": []
  }
 ],
 "metadata": {
  "kernelspec": {
   "display_name": "cloudspace",
   "language": "python",
   "name": "python3"
  },
  "language_info": {
   "codemirror_mode": {
    "name": "ipython",
    "version": 3
   },
   "file_extension": ".py",
   "mimetype": "text/x-python",
   "name": "python",
   "nbconvert_exporter": "python",
   "pygments_lexer": "ipython3",
   "version": "3.10.10"
  }
 },
 "nbformat": 4,
 "nbformat_minor": 2
}
